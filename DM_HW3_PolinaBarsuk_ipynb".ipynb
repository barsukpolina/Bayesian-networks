{
  "nbformat": 4,
  "nbformat_minor": 0,
  "metadata": {
    "kernelspec": {
      "display_name": "Python 3",
      "language": "python",
      "name": "python3"
    },
    "language_info": {
      "codemirror_mode": {
        "name": "ipython",
        "version": 3
      },
      "file_extension": ".py",
      "mimetype": "text/x-python",
      "name": "python",
      "nbconvert_exporter": "python",
      "pygments_lexer": "ipython3",
      "version": "3.7.0"
    },
    "colab": {
      "name": "DM_HW3_PolinaBarsuk.ipynb\"",
      "provenance": [],
      "collapsed_sections": [],
      "toc_visible": true,
      "include_colab_link": true
    }
  },
  "cells": [
    {
      "cell_type": "markdown",
      "metadata": {
        "id": "view-in-github",
        "colab_type": "text"
      },
      "source": [
        "<a href=\"https://colab.research.google.com/github/barsukpolina/Bayesian-networks/blob/main/DM_HW3_PolinaBarsuk_ipynb%22.ipynb\" target=\"_parent\"><img src=\"https://colab.research.google.com/assets/colab-badge.svg\" alt=\"Open In Colab\"/></a>"
      ]
    },
    {
      "cell_type": "markdown",
      "metadata": {
        "id": "Lcb9A7WQfqYf"
      },
      "source": [
        "## ДЗ №3. Практика по БС"
      ]
    },
    {
      "cell_type": "code",
      "metadata": {
        "id": "N8drW4GOfyIh"
      },
      "source": [
        "!pip install pomegranate"
      ],
      "execution_count": null,
      "outputs": []
    },
    {
      "cell_type": "code",
      "metadata": {
        "id": "8scOs2R8fqYh"
      },
      "source": [
        "from pomegranate import *"
      ],
      "execution_count": null,
      "outputs": []
    },
    {
      "cell_type": "code",
      "metadata": {
        "id": "ekpCcMKQfqYm"
      },
      "source": [
        "import numpy as np\n",
        "import pandas as pd\n",
        "%matplotlib inline\n",
        "import matplotlib.pyplot as plt"
      ],
      "execution_count": null,
      "outputs": []
    },
    {
      "cell_type": "code",
      "metadata": {
        "id": "joaghwPofqZO"
      },
      "source": [
        "!apt install libgraphviz-dev\n",
        "!pip install pygraphviz"
      ],
      "execution_count": null,
      "outputs": []
    },
    {
      "cell_type": "code",
      "metadata": {
        "id": "W9Y9T3GPkrtp"
      },
      "source": [
        "from pygraphviz import *"
      ],
      "execution_count": null,
      "outputs": []
    },
    {
      "cell_type": "code",
      "metadata": {
        "id": "Pm_3_DOSLM21"
      },
      "source": [
        "def plot_bn(df, bn):\n",
        "  for i in range(df.shape[1]):\n",
        "    bn.states[i].name = df.columns[i]\n",
        "  plt.figure(figsize = (10,10))\n",
        "  return bn.plot()"
      ],
      "execution_count": null,
      "outputs": []
    },
    {
      "cell_type": "markdown",
      "metadata": {
        "id": "lLsvFh4KFi3Y"
      },
      "source": [
        "### Фильтрация данных\n",
        "\n",
        "\n"
      ]
    },
    {
      "cell_type": "code",
      "metadata": {
        "id": "8iJVe_HCVvr2"
      },
      "source": [
        "import csv\n",
        "insurance = pd.read_csv(\"insurance.csv\", dtype = str, quoting=csv.QUOTE_NONE)"
      ],
      "execution_count": null,
      "outputs": []
    },
    {
      "cell_type": "markdown",
      "metadata": {
        "id": "i6PZJwc12HEE"
      },
      "source": [
        "Поскольку я в данных выделила 4 группы признаков, то для сокращения я из каждой группы выберу 2-4 признака, чтобы не потерять полноту информации о водителе и машине. Эти признаки выделены синим цветом. "
      ]
    },
    {
      "cell_type": "markdown",
      "metadata": {
        "id": "pd-aFK3ztNq5"
      },
      "source": [
        "*Характеристики водителя:*\n",
        "\n",
        "**GoodStudent (good student):** False and True.\n",
        "\n",
        "**Age (age):** Adolescent, Adult and Senior.\n",
        "\n",
        "<font color='blue'> *SocioEcon (socio-economic status): levels Prole, Middle, UpperMiddle and Wealthy.* </font>\n",
        "\n",
        "<font color='blue'> *RiskAversion (risk aversion): levels Psychopath, Adventurous, Normal and Cautious.*</font>\n",
        "\n",
        "**MedCost (cost of the medical treatment):** levels Thousand, TenThou, HundredThou and Million.\n",
        "\n",
        "<font color='blue'> *DrivQuality (driving quality): levels Poor, Normal and Excellent.* </font>\n",
        "\n",
        "<font color='blue'> *DrivingSkill (driving skill): levels SubStandard, Normal and Expert.* </font>\n",
        "\n",
        "**SeniorTrain (senior training):** False and True. Что-то с навыками вождения\n",
        "\n",
        "**DrivHist (driving history):** levels Zero, One and Many.\n",
        "\n",
        "**HomeBase (neighbourhood type):** levels Secure, City, Suburb and Rural.\n",
        "\n",
        "**OtherCarCost (costs for the other car):** levels Thousand, TenThou, HundredThou and Million.\n",
        "\n",
        "------------------------------------------------------\n",
        "\n",
        "*Характеристики машины по функционалу:*\n",
        "\n",
        "<font color='blue'> *VehicleYear (vehicle age): levels Current and older.* </font>\n",
        "\n",
        "<font color='blue'> *MakeModel (car's model): levels SportsCar, Economy, FamilySedan, Luxury and SuperLuxury.* </font>\n",
        "\n",
        "**Cushioning (cushioning):** levels Poor, Fair, Good and Excellent.\n",
        "\n",
        "**RuggedAuto (ruggedness of the car):** levels EggShell, Football and Tank.\n",
        "\n",
        "**Mileage (mileage):** levels FiveThou, TwentyThou, FiftyThou and Domino.\n",
        "\n",
        "<font color='blue'> *Antilock (ABS): False and True.* </font>\n",
        "\n",
        "**AntiTheft (anti-theft system):** False and True.\n",
        "\n",
        "<font color='blue'> *Airbag (airbag): False and True.* </font>\n",
        "\n",
        "------------------------------------------------------\n",
        "\n",
        "*Характеристики машины по предыдущей истории пользования:*\n",
        "\n",
        "<font color='blue'> *ThisCarDam (damage to this car): levels None, Mild, Moderate and Severe.* </font>\n",
        "\n",
        "<font color='blue'> *Accident (severity of the accident): levels None, Mild, Moderate and Severe.* </font>\n",
        "\n",
        "**Theft (theft):** False and True.\n",
        "\n",
        "**OtherCar (other cars involved in the accident):** False and True.\n",
        "\n",
        "------------------------------------------------------\n",
        "*Цена машины, оцененная разными способами:*\n",
        "\n",
        "<font color='blue'> *ThisCarCost (costs for the insured car): levels Thousand, TenThou, HundredThou and Million.Стоимость по страховке* </font>\n",
        "\n",
        "<font color='blue'> *CarValue (value of the car): levels FiveThou, TenThou, TwentyThou, FiftyThou and Million.*</font>\n",
        "\n",
        "**PropCost (ratio of the cost for the two cars):** a four-level factor with levels Thousand, TenThou, HundredThou and Million.\n",
        "\n",
        "**ILiCost (inspection cost):** levels Thousand, TenThou, HundredThou and Million.\n",
        "\n",
        "\n",
        "\n",
        "\n",
        "\n",
        "\n",
        "\n",
        "\n",
        "\n"
      ]
    },
    {
      "cell_type": "markdown",
      "metadata": {
        "id": "Ou4sJKkL6N30"
      },
      "source": [
        "При выборе признаков для дальнейшего их исследования я придерживалась следующей логики:<br>\n",
        "1. из характеристик водителя я выбрала такие признаки как социально-экономический статус, тип личности (рискованный, осторожный и т.д.), опыт и качество вождения. Остальные признаки я посчитала прямым следствием из тех, что я выделила. Интересно посмотреть, влияет ли социально-экономический статус и тип личности на цену машины от страховой компании.\n",
        "2. из характеристик машины по функционалу я выбрала год машины, ее статус (люкс, спортивная и т.д.), наличие таких функций как антиблокировочная система тормозная система и наличие/отсутствие подушки безопасности. Мне интересно посмотреть, как отсутствие/наличие подушки безопасности и антиблокировочной тормозной системы влияют на цену машины. \n",
        "3. из характеристик машины по предыдущей истории использования были выбраны следующие: попадание в аварию, серьзность аварии, если она была. \n",
        "4. в качестве целевых переменных были выбраны цена машины, оцененная страховой компанией, и обычная цена машины. \n",
        "\n",
        "Также хочется посмотреть, как все эти признаки в совокупности влияют на цену машины, установленную страховой компанией."
      ]
    },
    {
      "cell_type": "markdown",
      "metadata": {
        "id": "DWrmI1aSDref"
      },
      "source": [
        "Выбираю случайно 2000 наблюдений."
      ]
    },
    {
      "cell_type": "code",
      "metadata": {
        "id": "fK5u4qYpbEUw",
        "colab": {
          "base_uri": "https://localhost:8080/",
          "height": 224
        },
        "outputId": "375ac411-2c6b-4e3d-9ac8-c575d63f8ac9"
      },
      "source": [
        "insuranceCut = insurance[['\"SocioEcon\"', '\"RiskAversion\"', '\"DrivQuality\"', '\"DrivingSkill\"', '\"VehicleYear\"',\n",
        "                          '\"MakeModel\"', '\"Antilock\"', '\"Airbag\"', '\"ThisCarDam\"', '\"Accident\"', '\"ThisCarCost\"',\n",
        "                          '\"CarValue\"']].sample(n=2000, random_state=1)\n",
        "insuranceCut.head()"
      ],
      "execution_count": null,
      "outputs": [
        {
          "output_type": "execute_result",
          "data": {
            "text/html": [
              "<div>\n",
              "<style scoped>\n",
              "    .dataframe tbody tr th:only-of-type {\n",
              "        vertical-align: middle;\n",
              "    }\n",
              "\n",
              "    .dataframe tbody tr th {\n",
              "        vertical-align: top;\n",
              "    }\n",
              "\n",
              "    .dataframe thead th {\n",
              "        text-align: right;\n",
              "    }\n",
              "</style>\n",
              "<table border=\"1\" class=\"dataframe\">\n",
              "  <thead>\n",
              "    <tr style=\"text-align: right;\">\n",
              "      <th></th>\n",
              "      <th>\"SocioEcon\"</th>\n",
              "      <th>\"RiskAversion\"</th>\n",
              "      <th>\"DrivQuality\"</th>\n",
              "      <th>\"DrivingSkill\"</th>\n",
              "      <th>\"VehicleYear\"</th>\n",
              "      <th>\"MakeModel\"</th>\n",
              "      <th>\"Antilock\"</th>\n",
              "      <th>\"Airbag\"</th>\n",
              "      <th>\"ThisCarDam\"</th>\n",
              "      <th>\"Accident\"</th>\n",
              "      <th>\"ThisCarCost\"</th>\n",
              "      <th>\"CarValue\"</th>\n",
              "    </tr>\n",
              "  </thead>\n",
              "  <tbody>\n",
              "    <tr>\n",
              "      <th>11456</th>\n",
              "      <td>\"UpperMiddle\"</td>\n",
              "      <td>\"Cautious\"</td>\n",
              "      <td>\"Normal\"</td>\n",
              "      <td>\"Normal\"</td>\n",
              "      <td>\"Current\"</td>\n",
              "      <td>\"FamilySedan\"</td>\n",
              "      <td>\"False\"</td>\n",
              "      <td>\"True\"</td>\n",
              "      <td>\"None\"</td>\n",
              "      <td>\"None\"</td>\n",
              "      <td>\"Thousand\"</td>\n",
              "      <td>\"TwentyThou\"</td>\n",
              "    </tr>\n",
              "    <tr>\n",
              "      <th>16528</th>\n",
              "      <td>\"Prole\"</td>\n",
              "      <td>\"Normal\"</td>\n",
              "      <td>\"Normal\"</td>\n",
              "      <td>\"Normal\"</td>\n",
              "      <td>\"Older\"</td>\n",
              "      <td>\"Economy\"</td>\n",
              "      <td>\"False\"</td>\n",
              "      <td>\"False\"</td>\n",
              "      <td>\"None\"</td>\n",
              "      <td>\"None\"</td>\n",
              "      <td>\"Thousand\"</td>\n",
              "      <td>\"TenThou\"</td>\n",
              "    </tr>\n",
              "    <tr>\n",
              "      <th>3253</th>\n",
              "      <td>\"Middle\"</td>\n",
              "      <td>\"Cautious\"</td>\n",
              "      <td>\"Excellent\"</td>\n",
              "      <td>\"Expert\"</td>\n",
              "      <td>\"Older\"</td>\n",
              "      <td>\"SportsCar\"</td>\n",
              "      <td>\"False\"</td>\n",
              "      <td>\"False\"</td>\n",
              "      <td>\"None\"</td>\n",
              "      <td>\"None\"</td>\n",
              "      <td>\"Thousand\"</td>\n",
              "      <td>\"TwentyThou\"</td>\n",
              "    </tr>\n",
              "    <tr>\n",
              "      <th>18614</th>\n",
              "      <td>\"Middle\"</td>\n",
              "      <td>\"Normal\"</td>\n",
              "      <td>\"Poor\"</td>\n",
              "      <td>\"SubStandard\"</td>\n",
              "      <td>\"Older\"</td>\n",
              "      <td>\"FamilySedan\"</td>\n",
              "      <td>\"False\"</td>\n",
              "      <td>\"False\"</td>\n",
              "      <td>\"Severe\"</td>\n",
              "      <td>\"Severe\"</td>\n",
              "      <td>\"TenThou\"</td>\n",
              "      <td>\"TenThou\"</td>\n",
              "    </tr>\n",
              "    <tr>\n",
              "      <th>1544</th>\n",
              "      <td>\"Middle\"</td>\n",
              "      <td>\"Normal\"</td>\n",
              "      <td>\"Normal\"</td>\n",
              "      <td>\"Normal\"</td>\n",
              "      <td>\"Older\"</td>\n",
              "      <td>\"Economy\"</td>\n",
              "      <td>\"False\"</td>\n",
              "      <td>\"False\"</td>\n",
              "      <td>\"None\"</td>\n",
              "      <td>\"None\"</td>\n",
              "      <td>\"Thousand\"</td>\n",
              "      <td>\"TenThou\"</td>\n",
              "    </tr>\n",
              "  </tbody>\n",
              "</table>\n",
              "</div>"
            ],
            "text/plain": [
              "         \"SocioEcon\" \"RiskAversion\"  ... \"ThisCarCost\"    \"CarValue\"\n",
              "11456  \"UpperMiddle\"     \"Cautious\"  ...    \"Thousand\"  \"TwentyThou\"\n",
              "16528        \"Prole\"       \"Normal\"  ...    \"Thousand\"     \"TenThou\"\n",
              "3253        \"Middle\"     \"Cautious\"  ...    \"Thousand\"  \"TwentyThou\"\n",
              "18614       \"Middle\"       \"Normal\"  ...     \"TenThou\"     \"TenThou\"\n",
              "1544        \"Middle\"       \"Normal\"  ...    \"Thousand\"     \"TenThou\"\n",
              "\n",
              "[5 rows x 12 columns]"
            ]
          },
          "metadata": {
            "tags": []
          },
          "execution_count": 8
        }
      ]
    },
    {
      "cell_type": "markdown",
      "metadata": {
        "id": "nWCjxHPNafYb"
      },
      "source": [
        "То есть всего 2000 наблюдей и 12 признаков. "
      ]
    },
    {
      "cell_type": "code",
      "metadata": {
        "colab": {
          "base_uri": "https://localhost:8080/"
        },
        "id": "rZ2bJW-RacYA",
        "outputId": "3b1e581e-376b-403b-a3c3-463c4ca7676d"
      },
      "source": [
        "insuranceCut.shape"
      ],
      "execution_count": null,
      "outputs": [
        {
          "output_type": "execute_result",
          "data": {
            "text/plain": [
              "(2000, 12)"
            ]
          },
          "metadata": {
            "tags": []
          },
          "execution_count": 9
        }
      ]
    },
    {
      "cell_type": "markdown",
      "metadata": {
        "id": "B2FoIRaLFa0l"
      },
      "source": [
        "### Построение Байесовской сети"
      ]
    },
    {
      "cell_type": "markdown",
      "metadata": {
        "id": "OVQNelR0GHH_"
      },
      "source": [
        "#### Greedy algorithm"
      ]
    },
    {
      "cell_type": "code",
      "metadata": {
        "id": "xIF5ZNZ9GLgP"
      },
      "source": [
        "bnet1 = BayesianNetwork.from_samples(insuranceCut, algorithm='greedy')"
      ],
      "execution_count": null,
      "outputs": []
    },
    {
      "cell_type": "code",
      "metadata": {
        "id": "QykaKmrObayS",
        "colab": {
          "base_uri": "https://localhost:8080/",
          "height": 575
        },
        "outputId": "6b7a7817-5d7e-488c-c323-3b9b31b91ef4"
      },
      "source": [
        "plot_bn(insuranceCut, bnet1)"
      ],
      "execution_count": null,
      "outputs": [
        {
          "output_type": "display_data",
          "data": {
            "image/png": "[encoded data removed]",
            "text/plain": [
              "<Figure size 720x720 with 1 Axes>"
            ]
          },
          "metadata": {
            "tags": [],
            "needs_background": "light"
          }
        }
      ]
    },
    {
      "cell_type": "markdown",
      "metadata": {
        "id": "SMBKnZVKKP-Q"
      },
      "source": [
        "#### Chow-liu algorithm"
      ]
    },
    {
      "cell_type": "code",
      "metadata": {
        "id": "7GBQ8GaCKW9o"
      },
      "source": [
        "bnet2 = BayesianNetwork.from_samples(insuranceCut, algorithm='chow-liu')"
      ],
      "execution_count": null,
      "outputs": []
    },
    {
      "cell_type": "code",
      "metadata": {
        "colab": {
          "base_uri": "https://localhost:8080/",
          "height": 575
        },
        "id": "t3-RDyYiKCZz",
        "outputId": "93482779-c6fd-4efa-d780-e43df1e97ec8"
      },
      "source": [
        "plot_bn(insuranceCut, bnet2)"
      ],
      "execution_count": null,
      "outputs": [
        {
          "output_type": "display_data",
          "data": {
            "image/png": "[encoded data removed]",
            "text/plain": [
              "<Figure size 720x720 with 1 Axes>"
            ]
          },
          "metadata": {
            "tags": [],
            "needs_background": "light"
          }
        }
      ]
    },
    {
      "cell_type": "markdown",
      "metadata": {
        "id": "3_5sPbTkSkF3"
      },
      "source": [
        "#### Exact-dp algorithm"
      ]
    },
    {
      "cell_type": "code",
      "metadata": {
        "id": "XVTKACJLKCcN"
      },
      "source": [
        "bnet3 = BayesianNetwork.from_samples(insuranceCut, algorithm='exact-dp')"
      ],
      "execution_count": null,
      "outputs": []
    },
    {
      "cell_type": "code",
      "metadata": {
        "colab": {
          "base_uri": "https://localhost:8080/",
          "height": 575
        },
        "id": "fFra8VgoKCf2",
        "outputId": "04b92eb1-62ed-4f3b-d6e1-e8eaf2e8523e"
      },
      "source": [
        "plot_bn(insuranceCut, bnet3)"
      ],
      "execution_count": null,
      "outputs": [
        {
          "output_type": "display_data",
          "data": {
            "image/png": "[encoded data removed]",
            "text/plain": [
              "<Figure size 720x720 with 1 Axes>"
            ]
          },
          "metadata": {
            "tags": [],
            "needs_background": "light"
          }
        }
      ]
    },
    {
      "cell_type": "markdown",
      "metadata": {
        "id": "5ezMcO9OUtVh"
      },
      "source": [
        "### Сравнение полученных моделей\n",
        "\n",
        "Чем ближе Log_probability к 0, тем лучше.\n"
      ]
    },
    {
      "cell_type": "code",
      "metadata": {
        "id": "yiSimOqaKChr"
      },
      "source": [
        "insuranceCut_array = insuranceCut.to_numpy()"
      ],
      "execution_count": null,
      "outputs": []
    },
    {
      "cell_type": "code",
      "metadata": {
        "colab": {
          "base_uri": "https://localhost:8080/"
        },
        "id": "R20ZBfahKCks",
        "outputId": "c92beb73-0c89-4bab-c287-7ee1225bdf7f"
      },
      "source": [
        "print('Log_probability(Greedy algorithm) = ', bnet1.log_probability(insuranceCut_array).sum())"
      ],
      "execution_count": null,
      "outputs": [
        {
          "output_type": "stream",
          "text": [
            "Log_probability(Greedy algorithm) =  -13752.550961367502\n"
          ],
          "name": "stdout"
        }
      ]
    },
    {
      "cell_type": "code",
      "metadata": {
        "colab": {
          "base_uri": "https://localhost:8080/"
        },
        "id": "QybDVzjSKCmm",
        "outputId": "24a0506d-e34d-4c48-ab6f-7a90f36f2bcd"
      },
      "source": [
        "print('Log_probability(Chow-liu algorithm) = ', bnet2.log_probability(insuranceCut_array).sum())"
      ],
      "execution_count": null,
      "outputs": [
        {
          "output_type": "stream",
          "text": [
            "Log_probability(Chow-liu algorithm) =  -14081.908804276716\n"
          ],
          "name": "stdout"
        }
      ]
    },
    {
      "cell_type": "code",
      "metadata": {
        "colab": {
          "base_uri": "https://localhost:8080/"
        },
        "id": "75uQNbMNKCpe",
        "outputId": "8068dc55-7914-49e0-f494-6f5ff42c7b49"
      },
      "source": [
        "print('Log_probability(Exact-dp algorithm) = ', bnet3.log_probability(insuranceCut_array).sum())"
      ],
      "execution_count": null,
      "outputs": [
        {
          "output_type": "stream",
          "text": [
            "Log_probability(Exact-dp algorithm) =  -13405.517466054804\n"
          ],
          "name": "stdout"
        }
      ]
    },
    {
      "cell_type": "markdown",
      "metadata": {
        "id": "Bg-IhQXIW_Dp"
      },
      "source": [
        "***Вывод:*** Таким образом, лучшим из построенных является алгоритм Exact-dp, далее идет Greedy, а потом Chow-liu.\n",
        "\n",
        "При анализе полученных графов поняла, что они получились совершенно разными. В первой модели цена машина от страховой компании и просто цена машины никак не связаны, но во второй и третьей моделях первая цена и вторая ассоциативно связаны. Вообще структуры, построенные с помощью exact-dp и chow-liu, довольно-таки похожи, но вот построенная с помощью greedy алгоритма сильно отличается."
      ]
    },
    {
      "cell_type": "markdown",
      "metadata": {
        "id": "G3K5SvN3YNTC"
      },
      "source": [
        "### Примеры вывода\n",
        "\n",
        "Посмотрим на изменение переменной *ThisCarCost* (цена машина от страховой компании) при варьировании других параметров. \n",
        "\n",
        "В качестве лучшей модели выбрана модель bnet3 (алгоритм exact-dp)."
      ]
    },
    {
      "cell_type": "markdown",
      "metadata": {
        "id": "qD_u1wSCbBaR"
      },
      "source": [
        "Первоначальное распределение: "
      ]
    },
    {
      "cell_type": "code",
      "metadata": {
        "id": "TFc3w3ZSKCrY"
      },
      "source": [
        "initial_proba = bnet3.predict_proba([[None] * insuranceCut.shape[1]])"
      ],
      "execution_count": null,
      "outputs": []
    },
    {
      "cell_type": "markdown",
      "metadata": {
        "id": "rIAQJFW_cn_f"
      },
      "source": [
        "Первоначальное распределение переменной *ThisCarCost*:<br>\n",
        "больше всего машин оценено на цену Thousand (82%), 13% - TenThou, и оставшиеся 5% распределены среди HundredThou и Million.\n"
      ]
    },
    {
      "cell_type": "code",
      "metadata": {
        "colab": {
          "base_uri": "https://localhost:8080/"
        },
        "id": "V1qvbV6oY4Yi",
        "outputId": "ececcc1a-5dcf-4bb2-bc63-59f56841feb6"
      },
      "source": [
        "initial_proba[0][10].parameters"
      ],
      "execution_count": null,
      "outputs": [
        {
          "output_type": "execute_result",
          "data": {
            "text/plain": [
              "[{'\"HundredThou\"': 0.04812266028488259,\n",
              "  '\"Million\"': 0.0004455730598675445,\n",
              "  '\"TenThou\"': 0.13233243722056554,\n",
              "  '\"Thousand\"': 0.8190993294346844}]"
            ]
          },
          "metadata": {
            "tags": []
          },
          "execution_count": 22
        }
      ]
    },
    {
      "cell_type": "code",
      "metadata": {
        "id": "PA6dr8SRY4bY"
      },
      "source": [
        "bnet3.bake()"
      ],
      "execution_count": null,
      "outputs": []
    },
    {
      "cell_type": "markdown",
      "metadata": {
        "id": "kwW1lekVgv2M"
      },
      "source": [
        "1. Если в машине присутствует подушка безопасности и антиблокировочная тормозная система, то вероятность, что машину оценят в Thousand увеличивается в сравнении с первоначальным распределением, а именно: 86% (увеличивается на 4%). Также в сравнении с изначальным распределением тут немного увеличилась вероятность оценки машины в стоимость Million (теперь она 0.13%, а была 0.04%) и в HundredThou (теперь 13%, а было 5%), однако вероятность в TenThou уменьшилась. То есть все показатели увеличились кроме TenThou.\n",
        "\n",
        "То есть еще более вероятно, что машину оценят в Thousand."
      ]
    },
    {
      "cell_type": "code",
      "metadata": {
        "colab": {
          "base_uri": "https://localhost:8080/"
        },
        "id": "pW8sN8ZoY4f6",
        "outputId": "fdda6482-a6a1-481f-8f91-a9dfcefa3b2c"
      },
      "source": [
        "bnet3.predict_proba([[None, None, None, None, None, None, '\"True\"', '\"True\"', None, None, None, None]])[0][10].parameters"
      ],
      "execution_count": null,
      "outputs": [
        {
          "output_type": "execute_result",
          "data": {
            "text/plain": [
              "[{'\"HundredThou\"': 0.1288720743928603,\n",
              "  '\"Million\"': 0.0012799683664880413,\n",
              "  '\"TenThou\"': 0.012690162649460119,\n",
              "  '\"Thousand\"': 0.8571577945911916}]"
            ]
          },
          "metadata": {
            "tags": []
          },
          "execution_count": 25
        }
      ]
    },
    {
      "cell_type": "markdown",
      "metadata": {
        "id": "g7_ohmDVhekU"
      },
      "source": [
        "А если в машине отсутствуют и подушка безопасности, и антиблокировочная тормозная система, то вероятность получить оцененную цену в  Thousand уменьшается, 80%(уменьшилось на 2%), а в Million уменьшилась вероятность на 0.01%, однако вероятность оценки машины в TenThou стала 19% (что больше первоначального распределения на 6%). И это довольно странно, почему при отсутствии этих приспособлений поднимается вероятность бОльшей цены, чем минимальная?"
      ]
    },
    {
      "cell_type": "code",
      "metadata": {
        "colab": {
          "base_uri": "https://localhost:8080/"
        },
        "id": "O6xLL_MIY4kw",
        "outputId": "b15bb6ea-4ee0-4c42-fd8e-641b8bfb90b6"
      },
      "source": [
        "bnet3.predict_proba([[None, None, None, None, None, None, '\"False\"', '\"False\"', None, None, None, None]])[0][10].parameters"
      ],
      "execution_count": null,
      "outputs": [
        {
          "output_type": "execute_result",
          "data": {
            "text/plain": [
              "[{'\"HundredThou\"': 0.014502741196658486,\n",
              "  '\"Million\"': 0.0003655786005966272,\n",
              "  '\"TenThou\"': 0.18526420909465346,\n",
              "  '\"Thousand\"': 0.7998674711080913}]"
            ]
          },
          "metadata": {
            "tags": []
          },
          "execution_count": 26
        }
      ]
    },
    {
      "cell_type": "markdown",
      "metadata": {
        "id": "LMXzkiOFl5tQ"
      },
      "source": [
        "2. Если социальный статус выше среднего или богатый, а тип личности - развлекательный, то цена от страховой компании изменится следующим образом: вероятнее всего цена будет также Thousand (но с вероятностью на 2% меньше первоначального варианта, 80%), а дальше по убыванию будут идти HundredThou и TenThou, 16% и 5% соответственно. Но для богатого человека стоит отметить, что вероятность цены в Million увеличивается, 3%, в сравнении с другими распределениями, когда как у человека со статусом выше среднего эта вероятность равна 0.06%."
      ]
    },
    {
      "cell_type": "code",
      "metadata": {
        "colab": {
          "base_uri": "https://localhost:8080/"
        },
        "id": "evnfu41UY4nL",
        "outputId": "9fa844b2-51f9-42cc-e842-82af46da0193"
      },
      "source": [
        "bnet3.predict_proba([['\"UpperMiddle\"', '\"Adventurous\"', None, None, None, None, None, None, None, None, None, None]])[0][10].parameters"
      ],
      "execution_count": null,
      "outputs": [
        {
          "output_type": "execute_result",
          "data": {
            "text/plain": [
              "[{'\"HundredThou\"': 0.15523725125457274,\n",
              "  '\"Million\"': 0.0006276813924249331,\n",
              "  '\"TenThou\"': 0.05224838724156359,\n",
              "  '\"Thousand\"': 0.7918866801114387}]"
            ]
          },
          "metadata": {
            "tags": []
          },
          "execution_count": 27
        }
      ]
    },
    {
      "cell_type": "code",
      "metadata": {
        "colab": {
          "base_uri": "https://localhost:8080/"
        },
        "id": "fGou1DWbY4pe",
        "outputId": "240ef310-0bd9-457a-fcdc-b828231845d6"
      },
      "source": [
        "bnet3.predict_proba([['\"Wealthy\"', '\"Adventurous\"', None, None, None, None, None, None, None, None, None, None]])[0][10].parameters"
      ],
      "execution_count": null,
      "outputs": [
        {
          "output_type": "execute_result",
          "data": {
            "text/plain": [
              "[{'\"HundredThou\"': 0.16499242110819784,\n",
              "  '\"Million\"': 0.025261286995934256,\n",
              "  '\"TenThou\"': 0.02048196607526087,\n",
              "  '\"Thousand\"': 0.789264325820607}]"
            ]
          },
          "metadata": {
            "tags": []
          },
          "execution_count": 28
        }
      ]
    },
    {
      "cell_type": "markdown",
      "metadata": {
        "id": "XQcG3hXpnQGb"
      },
      "source": [
        "Но если социальный статус средний, а тип личности \"Psychopath\", то самой вероятной ценой будет Thousand, но уже с намного меньшей вероятностью, 67%, а вероятность оценки в TenThou - 23%, что довольно странно, то есть вероятность цены бОльшей, чем минимальная, стала больше, если тип личности психопат, а социальный уровень средний."
      ]
    },
    {
      "cell_type": "code",
      "metadata": {
        "colab": {
          "base_uri": "https://localhost:8080/"
        },
        "id": "X93qFuDLY41l",
        "outputId": "63cf155f-8182-4c53-f0a0-a0bdbe52d6b7"
      },
      "source": [
        "bnet3.predict_proba([['\"Middle\"', '\"Psychopath\"', None, None, None, None, None, None, None, None, None, None]])[0][10].parameters"
      ],
      "execution_count": null,
      "outputs": [
        {
          "output_type": "execute_result",
          "data": {
            "text/plain": [
              "[{'\"HundredThou\"': 0.09112381207560692,\n",
              "  '\"Million\"': 0.000724725023403694,\n",
              "  '\"TenThou\"': 0.23718447785075827,\n",
              "  '\"Thousand\"': 0.6709669850502311}]"
            ]
          },
          "metadata": {
            "tags": []
          },
          "execution_count": 29
        }
      ]
    },
    {
      "cell_type": "markdown",
      "metadata": {
        "id": "5S_UjmMUoRie"
      },
      "source": [
        "3. Если год машины текущий, а ее статус - спортивная, то распределение цены от страховой компании меняется следующим образом: самой вероятной ценой становится Thousand (85%), правда эта сумма была вероятней всего и в изначальном распределении, но затем по вероятности идет уже HundredThou, что уже отличается (13%). Но стоит обратить внимание, что при изменении типа машины на любой другой тип распределение разительно изменяется. Так, если выбрать машины люкс-класса, то единственными вариантами, как ее могут оценить: это Thousand (тут вероятность очень высокая - 87%) и HundredThou (13%). "
      ]
    },
    {
      "cell_type": "code",
      "metadata": {
        "colab": {
          "base_uri": "https://localhost:8080/"
        },
        "id": "uIdwQ3N9Y440",
        "outputId": "37fba8f2-f54c-47a6-9d1d-d5fbe85f555e"
      },
      "source": [
        "bnet3.predict_proba([[None, None, None, None, '\"Current\"', '\"SportsCar\"', None, None, None, None, None, None]])[0][10].parameters"
      ],
      "execution_count": null,
      "outputs": [
        {
          "output_type": "execute_result",
          "data": {
            "text/plain": [
              "[{'\"HundredThou\"': 0.13468264617921277,\n",
              "  '\"Million\"': 0.0020325203252037492,\n",
              "  '\"TenThou\"': 0.012798313556863795,\n",
              "  '\"Thousand\"': 0.8504865199387197}]"
            ]
          },
          "metadata": {
            "tags": []
          },
          "execution_count": 30
        }
      ]
    },
    {
      "cell_type": "code",
      "metadata": {
        "colab": {
          "base_uri": "https://localhost:8080/"
        },
        "id": "NejNiDVyn_g9",
        "outputId": "04c0041b-05dd-4ca7-db63-33050b06202f"
      },
      "source": [
        "bnet3.predict_proba([[None, None, None, None, '\"Current\"', '\"Luxury\"', None, None, None, None, None, None]])[0][10].parameters"
      ],
      "execution_count": null,
      "outputs": [
        {
          "output_type": "execute_result",
          "data": {
            "text/plain": [
              "[{'\"HundredThou\"': 0.1277777777777781,\n",
              "  '\"Million\"': 0.0,\n",
              "  '\"TenThou\"': 0.0,\n",
              "  '\"Thousand\"': 0.8722222222222216}]"
            ]
          },
          "metadata": {
            "tags": []
          },
          "execution_count": 31
        }
      ]
    },
    {
      "cell_type": "markdown",
      "metadata": {
        "id": "CsNK8TpDqmKj"
      },
      "source": [
        "У старых машин обнаруживается другая закономерность. У машин типа люкс-класса уменьшается вероятность у цены Thousand, 85%, и в миллион также невозможно ее оценить. А у старых спортивных машин увеличивается вероятность оценить ее в TenThou, 14%, но уменьшается в Thousand, 82%."
      ]
    },
    {
      "cell_type": "code",
      "metadata": {
        "colab": {
          "base_uri": "https://localhost:8080/"
        },
        "id": "Ci2Iz-OPn_o6",
        "outputId": "59f56dad-9720-47b6-ca97-287efcea819d"
      },
      "source": [
        "bnet3.predict_proba([[None, None, None, None, '\"Older\"', '\"SportsCar\"', None, None, None, None, None, None]])[0][10].parameters"
      ],
      "execution_count": null,
      "outputs": [
        {
          "output_type": "execute_result",
          "data": {
            "text/plain": [
              "[{'\"HundredThou\"': 0.03749861070249461,\n",
              "  '\"Million\"': 0.0030303030303035234,\n",
              "  '\"TenThou\"': 0.14021200577872636,\n",
              "  '\"Thousand\"': 0.8192590804884755}]"
            ]
          },
          "metadata": {
            "tags": []
          },
          "execution_count": 32
        }
      ]
    },
    {
      "cell_type": "code",
      "metadata": {
        "colab": {
          "base_uri": "https://localhost:8080/"
        },
        "id": "mODFYi7xn_kg",
        "outputId": "1d849ad2-a29e-420d-b551-2d49bbdd2266"
      },
      "source": [
        "bnet3.predict_proba([[None, None, None, None, '\"Older\"', '\"Luxury\"', None, None, None, None, None, None]])[0][10].parameters"
      ],
      "execution_count": null,
      "outputs": [
        {
          "output_type": "execute_result",
          "data": {
            "text/plain": [
              "[{'\"HundredThou\"': 0.10592387116658988,\n",
              "  '\"Million\"': 0.0,\n",
              "  '\"TenThou\"': 0.043897804616507705,\n",
              "  '\"Thousand\"': 0.8501783242169021}]"
            ]
          },
          "metadata": {
            "tags": []
          },
          "execution_count": 33
        }
      ]
    },
    {
      "cell_type": "markdown",
      "metadata": {
        "id": "mKObCeUza3v1"
      },
      "source": [
        "Стоит отметить, что во всех примерах самая вероятная цена остается неизменной, Thousand, меняется лишь немного ее процент. Например, в моих примерах он был получен самый высокий при типе машины Luxury и годе выпуска - Current."
      ]
    },
    {
      "cell_type": "markdown",
      "metadata": {
        "id": "DZEjA8KE7rvY"
      },
      "source": [
        "4. Посмотрим, какое вообще будет распределение при всех конкрентных параметрах, кроме ThisCarCost:\n",
        "\n",
        "С таким распределением у нас большинство машин, 99% оценены в Thousand."
      ]
    },
    {
      "cell_type": "code",
      "metadata": {
        "colab": {
          "base_uri": "https://localhost:8080/"
        },
        "id": "GsAqWTbd72DM",
        "outputId": "3ad1d2cf-ec41-40be-85fc-b41003df181f"
      },
      "source": [
        "bnet3.predict_proba([['\"UpperMiddle\"', '\"Adventurous\"', '\"Normal\"', '\"Normal\"', '\"Older\"', '\"SportsCar\"', '\"True\"', '\"True\"', '\"None\"', '\"None\"', None, '\"TwentyThou\"']])[0][10].parameters"
      ],
      "execution_count": null,
      "outputs": [
        {
          "output_type": "execute_result",
          "data": {
            "text/plain": [
              "[{'\"HundredThou\"': 0.0019666549328567103,\n",
              "  '\"Million\"': 0.0,\n",
              "  '\"TenThou\"': 1.9481572778953318e-05,\n",
              "  '\"Thousand\"': 0.9980138634943643}]"
            ]
          },
          "metadata": {
            "tags": []
          },
          "execution_count": 34
        }
      ]
    },
    {
      "cell_type": "markdown",
      "metadata": {
        "id": "nxhm9Y6er7-x"
      },
      "source": [
        "### *Качество предсказаний"
      ]
    },
    {
      "cell_type": "code",
      "metadata": {
        "id": "XuriZxV3vOxI"
      },
      "source": [
        "from sklearn.model_selection import train_test_split"
      ],
      "execution_count": null,
      "outputs": []
    },
    {
      "cell_type": "code",
      "metadata": {
        "id": "3dSWxarRu2t7"
      },
      "source": [
        "y = insuranceCut['\"ThisCarCost\"']"
      ],
      "execution_count": null,
      "outputs": []
    },
    {
      "cell_type": "code",
      "metadata": {
        "id": "qC5Bgp-hvC7R"
      },
      "source": [
        "X = insuranceCut.drop(columns='\"ThisCarCost\"')"
      ],
      "execution_count": null,
      "outputs": []
    },
    {
      "cell_type": "code",
      "metadata": {
        "id": "Lnq6WFX0n_rz"
      },
      "source": [
        "X_train, X_test, y_train, y_test = train_test_split(X, y, test_size = 1/3, random_state = 0)"
      ],
      "execution_count": null,
      "outputs": []
    },
    {
      "cell_type": "code",
      "metadata": {
        "id": "JF6_SqcC1krm"
      },
      "source": [
        "Xy_train = X_train.copy()\n",
        "Xy_train['\"ThisCarCost\"'] = y_train"
      ],
      "execution_count": null,
      "outputs": []
    },
    {
      "cell_type": "code",
      "metadata": {
        "colab": {
          "base_uri": "https://localhost:8080/",
          "height": 224
        },
        "id": "nmQKwHtGORhV",
        "outputId": "896d0923-228e-4981-957a-41794028d3a6"
      },
      "source": [
        "Xy_train.head()"
      ],
      "execution_count": null,
      "outputs": [
        {
          "output_type": "execute_result",
          "data": {
            "text/html": [
              "<div>\n",
              "<style scoped>\n",
              "    .dataframe tbody tr th:only-of-type {\n",
              "        vertical-align: middle;\n",
              "    }\n",
              "\n",
              "    .dataframe tbody tr th {\n",
              "        vertical-align: top;\n",
              "    }\n",
              "\n",
              "    .dataframe thead th {\n",
              "        text-align: right;\n",
              "    }\n",
              "</style>\n",
              "<table border=\"1\" class=\"dataframe\">\n",
              "  <thead>\n",
              "    <tr style=\"text-align: right;\">\n",
              "      <th></th>\n",
              "      <th>\"SocioEcon\"</th>\n",
              "      <th>\"RiskAversion\"</th>\n",
              "      <th>\"DrivQuality\"</th>\n",
              "      <th>\"DrivingSkill\"</th>\n",
              "      <th>\"VehicleYear\"</th>\n",
              "      <th>\"MakeModel\"</th>\n",
              "      <th>\"Antilock\"</th>\n",
              "      <th>\"Airbag\"</th>\n",
              "      <th>\"ThisCarDam\"</th>\n",
              "      <th>\"Accident\"</th>\n",
              "      <th>\"CarValue\"</th>\n",
              "      <th>\"ThisCarCost\"</th>\n",
              "    </tr>\n",
              "  </thead>\n",
              "  <tbody>\n",
              "    <tr>\n",
              "      <th>183</th>\n",
              "      <td>\"Prole\"</td>\n",
              "      <td>\"Normal\"</td>\n",
              "      <td>\"Normal\"</td>\n",
              "      <td>\"Normal\"</td>\n",
              "      <td>\"Older\"</td>\n",
              "      <td>\"SportsCar\"</td>\n",
              "      <td>\"True\"</td>\n",
              "      <td>\"False\"</td>\n",
              "      <td>\"None\"</td>\n",
              "      <td>\"None\"</td>\n",
              "      <td>\"FiftyThou\"</td>\n",
              "      <td>\"Thousand\"</td>\n",
              "    </tr>\n",
              "    <tr>\n",
              "      <th>17563</th>\n",
              "      <td>\"UpperMiddle\"</td>\n",
              "      <td>\"Normal\"</td>\n",
              "      <td>\"Normal\"</td>\n",
              "      <td>\"Normal\"</td>\n",
              "      <td>\"Current\"</td>\n",
              "      <td>\"FamilySedan\"</td>\n",
              "      <td>\"True\"</td>\n",
              "      <td>\"True\"</td>\n",
              "      <td>\"None\"</td>\n",
              "      <td>\"None\"</td>\n",
              "      <td>\"TwentyThou\"</td>\n",
              "      <td>\"Thousand\"</td>\n",
              "    </tr>\n",
              "    <tr>\n",
              "      <th>2052</th>\n",
              "      <td>\"UpperMiddle\"</td>\n",
              "      <td>\"Cautious\"</td>\n",
              "      <td>\"Normal\"</td>\n",
              "      <td>\"Normal\"</td>\n",
              "      <td>\"Older\"</td>\n",
              "      <td>\"SportsCar\"</td>\n",
              "      <td>\"False\"</td>\n",
              "      <td>\"False\"</td>\n",
              "      <td>\"None\"</td>\n",
              "      <td>\"None\"</td>\n",
              "      <td>\"FiveThou\"</td>\n",
              "      <td>\"Thousand\"</td>\n",
              "    </tr>\n",
              "    <tr>\n",
              "      <th>15085</th>\n",
              "      <td>\"Prole\"</td>\n",
              "      <td>\"Normal\"</td>\n",
              "      <td>\"Normal\"</td>\n",
              "      <td>\"Normal\"</td>\n",
              "      <td>\"Older\"</td>\n",
              "      <td>\"FamilySedan\"</td>\n",
              "      <td>\"False\"</td>\n",
              "      <td>\"False\"</td>\n",
              "      <td>\"None\"</td>\n",
              "      <td>\"None\"</td>\n",
              "      <td>\"FiveThou\"</td>\n",
              "      <td>\"Thousand\"</td>\n",
              "    </tr>\n",
              "    <tr>\n",
              "      <th>2320</th>\n",
              "      <td>\"Prole\"</td>\n",
              "      <td>\"Adventurous\"</td>\n",
              "      <td>\"Poor\"</td>\n",
              "      <td>\"SubStandard\"</td>\n",
              "      <td>\"Older\"</td>\n",
              "      <td>\"Economy\"</td>\n",
              "      <td>\"False\"</td>\n",
              "      <td>\"False\"</td>\n",
              "      <td>\"Moderate\"</td>\n",
              "      <td>\"Moderate\"</td>\n",
              "      <td>\"FiveThou\"</td>\n",
              "      <td>\"TenThou\"</td>\n",
              "    </tr>\n",
              "  </tbody>\n",
              "</table>\n",
              "</div>"
            ],
            "text/plain": [
              "         \"SocioEcon\" \"RiskAversion\"  ...    \"CarValue\" \"ThisCarCost\"\n",
              "183          \"Prole\"       \"Normal\"  ...   \"FiftyThou\"    \"Thousand\"\n",
              "17563  \"UpperMiddle\"       \"Normal\"  ...  \"TwentyThou\"    \"Thousand\"\n",
              "2052   \"UpperMiddle\"     \"Cautious\"  ...    \"FiveThou\"    \"Thousand\"\n",
              "15085        \"Prole\"       \"Normal\"  ...    \"FiveThou\"    \"Thousand\"\n",
              "2320         \"Prole\"  \"Adventurous\"  ...    \"FiveThou\"     \"TenThou\"\n",
              "\n",
              "[5 rows x 12 columns]"
            ]
          },
          "metadata": {
            "tags": []
          },
          "execution_count": 40
        }
      ]
    },
    {
      "cell_type": "code",
      "metadata": {
        "id": "EuI_Uvnd1Oic"
      },
      "source": [
        "model = BayesianNetwork.from_samples(Xy_train, algorithm='exact-dp')"
      ],
      "execution_count": null,
      "outputs": []
    },
    {
      "cell_type": "code",
      "metadata": {
        "id": "ykGRFq169Yxn"
      },
      "source": [
        "model.bake()"
      ],
      "execution_count": null,
      "outputs": []
    },
    {
      "cell_type": "markdown",
      "metadata": {
        "id": "BH7zJRg3QWeE"
      },
      "source": [
        "Подготовим тестовые данные для предсказывания:"
      ]
    },
    {
      "cell_type": "code",
      "metadata": {
        "id": "Darvfd0ewEQr"
      },
      "source": [
        "Xy_test = X_test.copy()\n",
        "Xy_test['\"ThisCarCost\"'] = None"
      ],
      "execution_count": null,
      "outputs": []
    },
    {
      "cell_type": "code",
      "metadata": {
        "id": "vH3YaTi7n_1v"
      },
      "source": [
        "predicted_df = pd.DataFrame(model.predict(Xy_test.to_numpy()))\n",
        "predicted_df.columns = Xy_train.columns.values"
      ],
      "execution_count": null,
      "outputs": []
    },
    {
      "cell_type": "code",
      "metadata": {
        "id": "qEf2uW1TU_vw"
      },
      "source": [
        "predicted_df['\"ThisCarCost_real\"'] = y_test.values"
      ],
      "execution_count": null,
      "outputs": []
    },
    {
      "cell_type": "code",
      "metadata": {
        "colab": {
          "base_uri": "https://localhost:8080/",
          "height": 439
        },
        "id": "UEoz28atVZWE",
        "outputId": "ffac7a90-7710-4c3b-e1e1-b00ea57872d3"
      },
      "source": [
        "predicted_df"
      ],
      "execution_count": null,
      "outputs": [
        {
          "output_type": "execute_result",
          "data": {
            "text/html": [
              "<div>\n",
              "<style scoped>\n",
              "    .dataframe tbody tr th:only-of-type {\n",
              "        vertical-align: middle;\n",
              "    }\n",
              "\n",
              "    .dataframe tbody tr th {\n",
              "        vertical-align: top;\n",
              "    }\n",
              "\n",
              "    .dataframe thead th {\n",
              "        text-align: right;\n",
              "    }\n",
              "</style>\n",
              "<table border=\"1\" class=\"dataframe\">\n",
              "  <thead>\n",
              "    <tr style=\"text-align: right;\">\n",
              "      <th></th>\n",
              "      <th>\"SocioEcon\"</th>\n",
              "      <th>\"RiskAversion\"</th>\n",
              "      <th>\"DrivQuality\"</th>\n",
              "      <th>\"DrivingSkill\"</th>\n",
              "      <th>\"VehicleYear\"</th>\n",
              "      <th>\"MakeModel\"</th>\n",
              "      <th>\"Antilock\"</th>\n",
              "      <th>\"Airbag\"</th>\n",
              "      <th>\"ThisCarDam\"</th>\n",
              "      <th>\"Accident\"</th>\n",
              "      <th>\"CarValue\"</th>\n",
              "      <th>\"ThisCarCost\"</th>\n",
              "      <th>\"ThisCarCost_real\"</th>\n",
              "    </tr>\n",
              "  </thead>\n",
              "  <tbody>\n",
              "    <tr>\n",
              "      <th>0</th>\n",
              "      <td>\"Prole\"</td>\n",
              "      <td>\"Normal\"</td>\n",
              "      <td>\"Normal\"</td>\n",
              "      <td>\"Normal\"</td>\n",
              "      <td>\"Older\"</td>\n",
              "      <td>\"Economy\"</td>\n",
              "      <td>\"False\"</td>\n",
              "      <td>\"False\"</td>\n",
              "      <td>\"None\"</td>\n",
              "      <td>\"None\"</td>\n",
              "      <td>\"FiveThou\"</td>\n",
              "      <td>\"Thousand\"</td>\n",
              "      <td>\"Thousand\"</td>\n",
              "    </tr>\n",
              "    <tr>\n",
              "      <th>1</th>\n",
              "      <td>\"Middle\"</td>\n",
              "      <td>\"Normal\"</td>\n",
              "      <td>\"Excellent\"</td>\n",
              "      <td>\"Expert\"</td>\n",
              "      <td>\"Older\"</td>\n",
              "      <td>\"FamilySedan\"</td>\n",
              "      <td>\"False\"</td>\n",
              "      <td>\"False\"</td>\n",
              "      <td>\"None\"</td>\n",
              "      <td>\"None\"</td>\n",
              "      <td>\"FiveThou\"</td>\n",
              "      <td>\"Thousand\"</td>\n",
              "      <td>\"Thousand\"</td>\n",
              "    </tr>\n",
              "    <tr>\n",
              "      <th>2</th>\n",
              "      <td>\"Middle\"</td>\n",
              "      <td>\"Cautious\"</td>\n",
              "      <td>\"Normal\"</td>\n",
              "      <td>\"Normal\"</td>\n",
              "      <td>\"Older\"</td>\n",
              "      <td>\"FamilySedan\"</td>\n",
              "      <td>\"False\"</td>\n",
              "      <td>\"False\"</td>\n",
              "      <td>\"None\"</td>\n",
              "      <td>\"None\"</td>\n",
              "      <td>\"TwentyThou\"</td>\n",
              "      <td>\"Thousand\"</td>\n",
              "      <td>\"Thousand\"</td>\n",
              "    </tr>\n",
              "    <tr>\n",
              "      <th>3</th>\n",
              "      <td>\"Prole\"</td>\n",
              "      <td>\"Adventurous\"</td>\n",
              "      <td>\"Poor\"</td>\n",
              "      <td>\"SubStandard\"</td>\n",
              "      <td>\"Older\"</td>\n",
              "      <td>\"FamilySedan\"</td>\n",
              "      <td>\"False\"</td>\n",
              "      <td>\"False\"</td>\n",
              "      <td>\"Severe\"</td>\n",
              "      <td>\"Severe\"</td>\n",
              "      <td>\"TenThou\"</td>\n",
              "      <td>\"TenThou\"</td>\n",
              "      <td>\"TenThou\"</td>\n",
              "    </tr>\n",
              "    <tr>\n",
              "      <th>4</th>\n",
              "      <td>\"Prole\"</td>\n",
              "      <td>\"Adventurous\"</td>\n",
              "      <td>\"Excellent\"</td>\n",
              "      <td>\"Expert\"</td>\n",
              "      <td>\"Older\"</td>\n",
              "      <td>\"Economy\"</td>\n",
              "      <td>\"False\"</td>\n",
              "      <td>\"False\"</td>\n",
              "      <td>\"None\"</td>\n",
              "      <td>\"None\"</td>\n",
              "      <td>\"FiveThou\"</td>\n",
              "      <td>\"Thousand\"</td>\n",
              "      <td>\"Thousand\"</td>\n",
              "    </tr>\n",
              "    <tr>\n",
              "      <th>...</th>\n",
              "      <td>...</td>\n",
              "      <td>...</td>\n",
              "      <td>...</td>\n",
              "      <td>...</td>\n",
              "      <td>...</td>\n",
              "      <td>...</td>\n",
              "      <td>...</td>\n",
              "      <td>...</td>\n",
              "      <td>...</td>\n",
              "      <td>...</td>\n",
              "      <td>...</td>\n",
              "      <td>...</td>\n",
              "      <td>...</td>\n",
              "    </tr>\n",
              "    <tr>\n",
              "      <th>662</th>\n",
              "      <td>\"Middle\"</td>\n",
              "      <td>\"Cautious\"</td>\n",
              "      <td>\"Normal\"</td>\n",
              "      <td>\"Normal\"</td>\n",
              "      <td>\"Current\"</td>\n",
              "      <td>\"SportsCar\"</td>\n",
              "      <td>\"True\"</td>\n",
              "      <td>\"True\"</td>\n",
              "      <td>\"None\"</td>\n",
              "      <td>\"None\"</td>\n",
              "      <td>\"TenThou\"</td>\n",
              "      <td>\"Thousand\"</td>\n",
              "      <td>\"Thousand\"</td>\n",
              "    </tr>\n",
              "    <tr>\n",
              "      <th>663</th>\n",
              "      <td>\"Middle\"</td>\n",
              "      <td>\"Normal\"</td>\n",
              "      <td>\"Poor\"</td>\n",
              "      <td>\"SubStandard\"</td>\n",
              "      <td>\"Older\"</td>\n",
              "      <td>\"FamilySedan\"</td>\n",
              "      <td>\"False\"</td>\n",
              "      <td>\"False\"</td>\n",
              "      <td>\"None\"</td>\n",
              "      <td>\"None\"</td>\n",
              "      <td>\"TwentyThou\"</td>\n",
              "      <td>\"Thousand\"</td>\n",
              "      <td>\"Thousand\"</td>\n",
              "    </tr>\n",
              "    <tr>\n",
              "      <th>664</th>\n",
              "      <td>\"Middle\"</td>\n",
              "      <td>\"Cautious\"</td>\n",
              "      <td>\"Excellent\"</td>\n",
              "      <td>\"Normal\"</td>\n",
              "      <td>\"Older\"</td>\n",
              "      <td>\"FamilySedan\"</td>\n",
              "      <td>\"False\"</td>\n",
              "      <td>\"True\"</td>\n",
              "      <td>\"None\"</td>\n",
              "      <td>\"None\"</td>\n",
              "      <td>\"FiveThou\"</td>\n",
              "      <td>\"Thousand\"</td>\n",
              "      <td>\"Thousand\"</td>\n",
              "    </tr>\n",
              "    <tr>\n",
              "      <th>665</th>\n",
              "      <td>\"Middle\"</td>\n",
              "      <td>\"Cautious\"</td>\n",
              "      <td>\"Poor\"</td>\n",
              "      <td>\"SubStandard\"</td>\n",
              "      <td>\"Older\"</td>\n",
              "      <td>\"Economy\"</td>\n",
              "      <td>\"False\"</td>\n",
              "      <td>\"False\"</td>\n",
              "      <td>\"None\"</td>\n",
              "      <td>\"None\"</td>\n",
              "      <td>\"FiveThou\"</td>\n",
              "      <td>\"Thousand\"</td>\n",
              "      <td>\"Thousand\"</td>\n",
              "    </tr>\n",
              "    <tr>\n",
              "      <th>666</th>\n",
              "      <td>\"Prole\"</td>\n",
              "      <td>\"Cautious\"</td>\n",
              "      <td>\"Poor\"</td>\n",
              "      <td>\"SubStandard\"</td>\n",
              "      <td>\"Older\"</td>\n",
              "      <td>\"SportsCar\"</td>\n",
              "      <td>\"False\"</td>\n",
              "      <td>\"False\"</td>\n",
              "      <td>\"Moderate\"</td>\n",
              "      <td>\"Moderate\"</td>\n",
              "      <td>\"TenThou\"</td>\n",
              "      <td>\"TenThou\"</td>\n",
              "      <td>\"TenThou\"</td>\n",
              "    </tr>\n",
              "  </tbody>\n",
              "</table>\n",
              "<p>667 rows × 13 columns</p>\n",
              "</div>"
            ],
            "text/plain": [
              "    \"SocioEcon\" \"RiskAversion\"  ... \"ThisCarCost\" \"ThisCarCost_real\"\n",
              "0       \"Prole\"       \"Normal\"  ...    \"Thousand\"         \"Thousand\"\n",
              "1      \"Middle\"       \"Normal\"  ...    \"Thousand\"         \"Thousand\"\n",
              "2      \"Middle\"     \"Cautious\"  ...    \"Thousand\"         \"Thousand\"\n",
              "3       \"Prole\"  \"Adventurous\"  ...     \"TenThou\"          \"TenThou\"\n",
              "4       \"Prole\"  \"Adventurous\"  ...    \"Thousand\"         \"Thousand\"\n",
              "..          ...            ...  ...           ...                ...\n",
              "662    \"Middle\"     \"Cautious\"  ...    \"Thousand\"         \"Thousand\"\n",
              "663    \"Middle\"       \"Normal\"  ...    \"Thousand\"         \"Thousand\"\n",
              "664    \"Middle\"     \"Cautious\"  ...    \"Thousand\"         \"Thousand\"\n",
              "665    \"Middle\"     \"Cautious\"  ...    \"Thousand\"         \"Thousand\"\n",
              "666     \"Prole\"     \"Cautious\"  ...     \"TenThou\"          \"TenThou\"\n",
              "\n",
              "[667 rows x 13 columns]"
            ]
          },
          "metadata": {
            "tags": []
          },
          "execution_count": 46
        }
      ]
    },
    {
      "cell_type": "code",
      "metadata": {
        "id": "tI6yjvTwn_7L"
      },
      "source": [
        "comparison_column = np.where(predicted_df['\"ThisCarCost\"'] == predicted_df['\"ThisCarCost_real\"'], True, False)"
      ],
      "execution_count": null,
      "outputs": []
    },
    {
      "cell_type": "markdown",
      "metadata": {
        "id": "yTLRLd92WSd1"
      },
      "source": [
        "Таким образом, это процент правильно посчитанных "
      ]
    },
    {
      "cell_type": "code",
      "metadata": {
        "colab": {
          "base_uri": "https://localhost:8080/"
        },
        "id": "GH0PYai9oABR",
        "outputId": "b59e1553-f9c0-45fc-bfaa-d1f4b0dd7fd8"
      },
      "source": [
        "print(np.sum(comparison_column) / len(comparison_column) * 100 )"
      ],
      "execution_count": null,
      "outputs": [
        {
          "output_type": "stream",
          "text": [
            "97.90104947526237\n"
          ],
          "name": "stdout"
        }
      ]
    },
    {
      "cell_type": "code",
      "metadata": {
        "id": "b_OVkKL6v_BP"
      },
      "source": [
        "from sklearn.metrics import accuracy_score, precision_score, recall_score"
      ],
      "execution_count": null,
      "outputs": []
    },
    {
      "cell_type": "code",
      "metadata": {
        "colab": {
          "base_uri": "https://localhost:8080/"
        },
        "id": "_TCxAMSpba7w",
        "outputId": "c6b992e0-6893-45f6-a030-c259325a693e"
      },
      "source": [
        "accuracy_score(predicted_df['\"ThisCarCost\"'], predicted_df['\"ThisCarCost_real\"'])"
      ],
      "execution_count": null,
      "outputs": [
        {
          "output_type": "execute_result",
          "data": {
            "text/plain": [
              "0.9790104947526237"
            ]
          },
          "metadata": {
            "tags": []
          },
          "execution_count": 50
        }
      ]
    },
    {
      "cell_type": "markdown",
      "metadata": {
        "id": "k6uAzjzydQrN"
      },
      "source": [
        "То есть $accuracy = 0.97$."
      ]
    },
    {
      "cell_type": "markdown",
      "metadata": {
        "id": "WpD9RnDDFd5M"
      },
      "source": [
        "Таким образом, предсказание получилось очень точным, 97% правильных предсказаний."
      ]
    },
    {
      "cell_type": "code",
      "metadata": {
        "id": "3QUb2mY2FdSj"
      },
      "source": [
        ""
      ],
      "execution_count": null,
      "outputs": []
    },
    {
      "cell_type": "code",
      "metadata": {
        "id": "LLrSvHzPdUl6"
      },
      "source": [
        ""
      ],
      "execution_count": null,
      "outputs": []
    }
  ]
}